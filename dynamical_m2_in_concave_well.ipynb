{
 "cells": [
  {
   "cell_type": "code",
   "execution_count": 1,
   "metadata": {},
   "outputs": [
    {
     "name": "stdout",
     "output_type": "stream",
     "text": [
      "/home/dpirvu/.local/lib/python3.7/site-packages/\n"
     ]
    }
   ],
   "source": [
    "import os\n",
    "import sys\n",
    "module_path = sys.path.append('/home/dpirvu/.local/lib/python3.8/site-packages/')\n",
    "module_path = sys.path.append('/home/dpirvu/.local/bin/')\n",
    "for i in sys.path:\n",
    "    i = i.replace(\"8\", \"7\")\n",
    "    if i not in sys.path:\n",
    "        sys.path.append(i)\n",
    "        print(i)\n",
    "import numpy as np\n",
    "import random\n",
    "import math\n",
    "import statistics as stat\n",
    "import matplotlib\n",
    "import matplotlib.pyplot as plt\n",
    "import scipy as scp\n",
    "import scipy.optimize as sco\n",
    "import scipy.signal as scs\n",
    "from scipy import stats\n",
    "import scipy.special as ssp\n",
    "import scipy.integrate as sci\n",
    "from itertools import zip_longest, groupby, cycle\n",
    "from scipy.ndimage import gaussian_filter1d\n",
    "from uncertainties import ufloat"
   ]
  },
  {
   "cell_type": "code",
   "execution_count": 2,
   "metadata": {},
   "outputs": [],
   "source": [
    "np_load_old = np.load\n",
    "np.load = lambda *a,**k: np_load_old(*a, allow_pickle=True, **k)"
   ]
  },
  {
   "cell_type": "markdown",
   "metadata": {},
   "source": [
    "### Simulation Parameters "
   ]
  },
  {
   "cell_type": "code",
   "execution_count": 3,
   "metadata": {},
   "outputs": [
    {
     "name": "stdout",
     "output_type": "stream",
     "text": [
      "0.09765625\n"
     ]
    }
   ],
   "source": [
    "nLat = 1024#256#512\n",
    "nTime = nLat\n",
    "nSims = 50\n",
    "\n",
    "phi0 = 1.\n",
    "m2eff = 1.\n",
    "lamb = 1.\n",
    "lenLat = 100.;\n",
    "nCols = 2\n",
    "\n",
    "nyq = nLat//2+1\n",
    "spec = nyq\n",
    "\n",
    "alpha = 8\n",
    "dx = lenLat/nLat; print(dx)\n",
    "dk = 2.*np.pi/lenLat\n",
    "dt = dx/alpha\n",
    "dtout = dt*alpha"
   ]
  },
  {
   "cell_type": "markdown",
   "metadata": {},
   "source": [
    "### Theoretical Field PS "
   ]
  },
  {
   "cell_type": "code",
   "execution_count": 4,
   "metadata": {},
   "outputs": [],
   "source": [
    "dynamical_mass_sim_location = lambda nT, nL, tem, phi, lam, m2, gam, sim: '/gpfs/dpirvu/thermal_bubbles/phi4_m2_dynamical_gam{:.4f}'.format(gam)+'_t'+str(nT)+'_x'+str(nL)+'_temp{:.4f}'.format(tem)+'_phi0{:.4f}'.format(phi)+'_lamb{:.4f}'.format(lam)+'_sim'+str(sim)+'_fields.dat'\n",
    "bare_mass_sim_location = lambda nT, nL, tem, phi, lam, m2, gam, sim: '/gpfs/dpirvu/thermal_bubbles/phi4_m2_stationary_gam{:.4f}'.format(gam)+'_t'+str(nT)+'_x'+str(nL)+'_temp{:.4f}'.format(tem)+'_phi0{:.4f}'.format(phi)+'_lamb{:.4f}'.format(lam)+'_sim'+str(sim)+'_fields.dat'\n",
    "no_fluct_sim_location = lambda nT, nL, tem, phi, lam, m2, gam, sim: '/gpfs/dpirvu/thermal_bubbles/phi4_m2_static_gam{:.4f}'.format(gam)+'_t'+str(nT)+'_x'+str(nL)+'_temp{:.4f}'.format(tem)+'_phi0{:.4f}'.format(phi)+'_lamb{:.4f}'.format(lam)+'_sim'+str(sim)+'_fields.dat'\n",
    "\n",
    "#correction includes terms in list sigma0sq_th(list_temp).tolist()\n",
    "m2_ps_temp_correction_sim_location = lambda nT, nL, tem, phi, lam, m2, gam, sim: '/gpfs/dpirvu/thermal_bubbles/phi4_m2_PS_gam{:.4f}'.format(gam)+'_t'+str(nT)+'_x'+str(nL)+'_temp{:.4f}'.format(tem)+'_phi0{:.4f}'.format(phi)+'_lamb{:.4f}'.format(lam)+'_sim'+str(sim)+'_fields.dat'\n",
    "#correction includes terms in list [np.mean([np.mean(all_stationary_mass_data[tem][sim,0,0]**2.) for sim in range(nSims)]) for tem in range(len(list_temp))]\n",
    "m2_eff_late_time_correction_sim_location = lambda nT, nL, tem, phi, lam, m2, gam, sim: '/gpfs/dpirvu/thermal_bubbles/phi4_m2_eff_equil_gam{:.4f}'.format(gam)+'_t'+str(nT)+'_x'+str(nL)+'_temp{:.4f}'.format(tem)+'_phi0{:.4f}'.format(phi)+'_lamb{:.4f}'.format(lam)+'_sim'+str(sim)+'_fields.dat'\n",
    "# comparison with bare mass intial field\n",
    "m2_null_sim_location = lambda nT, nL, tem, phi, lam, m2, gam, sim: '/gpfs/dpirvu/thermal_bubbles/phi4_m2_null_gam{:.4f}'.format(gam)+'_t'+str(nT)+'_x'+str(nL)+'_temp{:.4f}'.format(tem)+'_phi0{:.4f}'.format(phi)+'_lamb{:.4f}'.format(lam)+'_sim'+str(sim)+'_fields.dat'\n",
    "\n",
    "def extract_dynamical_mass_sim(nT, nL, tem, gam, sim):\n",
    "    data = np.genfromtxt(dynamical_mass_sim_location(nT, nL, tem, phi0, lamb, m2eff, gam, sim))\n",
    "    return np.asarray([np.reshape(data[:,col], (nT, nL)) for col in range(nCols)])\n",
    "\n",
    "def extract_stationary_mass_sim(nT, nL, tem, gam, sim):\n",
    "    data = np.genfromtxt(bare_mass_sim_location(nT, nL, tem, phi0, lamb, m2eff, gam, sim))\n",
    "    return np.asarray([np.reshape(data[:,col], (nT, nL)) for col in range(nCols)])\n",
    "\n",
    "def extract_static_sim(nT, nL, tem, gam, sim):\n",
    "    data = np.genfromtxt(no_fluct_sim_location(nT, nL, tem, phi0, lamb, m2eff, gam, sim))\n",
    "    return np.asarray([np.reshape(data[:,col], (nT, nL)) for col in range(nCols)])\n",
    "\n",
    "def extract_m2_ps_temp_correction_sim(nT, nL, tem, gam, sim):\n",
    "    data = np.genfromtxt(m2_ps_temp_correction_sim_location(nT, nL, tem, phi0, lamb, m2eff, gam, sim))\n",
    "    return np.asarray([np.reshape(data[:,col], (nT, nL)) for col in range(nCols)])\n",
    "\n",
    "def extract_m2_eff_late_time_correction_sim(nT, nL, tem, gam, sim):\n",
    "    data = np.genfromtxt(m2_eff_late_time_correction_sim_location(nT, nL, tem, phi0, lamb, m2eff, gam, sim))\n",
    "    return np.asarray([np.reshape(data[:,col], (nT, nL)) for col in range(nCols)])\n",
    "\n",
    "def extract_m2_null_location_sim(nT, nL, tem, gam, sim):\n",
    "    data = np.genfromtxt(m2_null_sim_location(nT, nL, tem, phi0, lamb, m2eff, gam, sim))\n",
    "    return np.asarray([np.reshape(data[:,col], (nT, nL)) for col in range(nCols)])"
   ]
  },
  {
   "cell_type": "code",
   "execution_count": 5,
   "metadata": {},
   "outputs": [],
   "source": [
    "norm = 1./ phi0 / np.sqrt(2.*lenLat)\n",
    "freqs = np.fft.fftshift(np.fft.fftfreq(nLat, d=dx))*2.*np.pi\n",
    "omega = freqs**2. + m2eff\n",
    "\n",
    "spectral_field = lambda tem: np.asarray([norm * np.sqrt(2./(np.exp(omega[k]**0.5/tem) - 1.)) / omega[k]**0.25 if k != nLat//2 else 0. for k in range(nLat)])\n",
    "sigma0sq_th = lambda tem: np.sum( np.abs(spectral_field(tem))**2. )\n",
    "\n",
    "V = lambda x: 0.5 * m2eff * x**2. + lamb * x**4. / 24.\n",
    "th_masses = lambda tem: m2eff + 0.5 * lamb * sigma0sq_th(tem)"
   ]
  },
  {
   "cell_type": "markdown",
   "metadata": {},
   "source": [
    "### Extract data from files"
   ]
  },
  {
   "cell_type": "code",
   "execution_count": 6,
   "metadata": {},
   "outputs": [
    {
     "name": "stdout",
     "output_type": "stream",
     "text": [
      "[1 2 3]\n"
     ]
    }
   ],
   "source": [
    "list_temp = np.arange(1, 16, 1)[:3:]; print(list_temp)\n",
    "fine_temp_list = np.linspace(min(list_temp), max(list_temp), 100)\n",
    "filter_size = 0."
   ]
  },
  {
   "cell_type": "code",
   "execution_count": null,
   "metadata": {},
   "outputs": [],
   "source": [
    "all_null_data = np.asarray([[extract_m2_null_location_sim(nTime, nLat, temp, 0., sim) for sim in range(nSims)] for temp in list_temp])\n",
    "print('Done')\n",
    "\n",
    "all_ps_mass_data = np.asarray([[extract_m2_eff_late_time_correction_sim(nTime, nLat, temp, 0., sim) for sim in range(nSims)] for temp in list_temp])\n",
    "print('Done')\n",
    "\n",
    "all_equil_mass_data = np.asarray([[extract_m2_ps_temp_correction_sim(nTime, nLat, temp, 0., sim) for sim in range(nSims)] for temp in list_temp])\n",
    "print('Done')\n",
    "\n",
    "all_data = [all_null_data, all_ps_mass_data, all_equil_mass_data]"
   ]
  },
  {
   "cell_type": "code",
   "execution_count": null,
   "metadata": {},
   "outputs": [],
   "source": [
    "if False:\n",
    "    sim = random.randint(0, nSims-1)\n",
    "\n",
    "    fig, ax = plt.subplots(len(all_data), len(list_temp), figsize = (4*len(list_temp)+4, 4*len(all_data)+4))\n",
    "    for iii in range(len(all_data)):\n",
    "        for temp in range(len(list_temp)):\n",
    "            im0 = ax[iii][temp].imshow(all_data[iii][temp][sim][0], aspect='auto', interpolation='none', origin='lower')\n",
    "            clb = plt.colorbar(im0, ax = ax[iii][temp])\n",
    "            ax[iii][temp].set_title('T = '+str(list_temp[temp]))\n",
    "    plt.suptitle('Simulation '+str(sim))\n",
    "    plt.show()"
   ]
  },
  {
   "cell_type": "code",
   "execution_count": null,
   "metadata": {},
   "outputs": [],
   "source": [
    "if False:\n",
    "    temp = -1\n",
    "    fig, ax = plt.subplots(1, len(all_data), figsize = (20, 5))\n",
    "    for jjj in range(len(all_data)):\n",
    "        ii = 1\n",
    "        colors = cycle(('b', 'g', 'orange', 'r', 'm', 'k'))\n",
    "        for time in np.linspace(0, nTime//10, 5):\n",
    "            col = next(colors)\n",
    "            time = int(time)\n",
    "            ii = ii - 0.17\n",
    "            PDF1d = []\n",
    "            for sim in range(nSims):\n",
    "                for ttime in range(time, time+10):\n",
    "                    PDF1d += all_data[jjj][temp][sim][0][ttime].tolist()\n",
    "\n",
    "            PDF1d = np.asarray(PDF1d)\n",
    "            sigma, mu = np.std(PDF1d), np.mean(PDF1d); print(sigma, mu)\n",
    "            n, bins, patches = ax[jjj].hist(PDF1d, bins=100, label='t = '+str(time), color=col, alpha=ii, ec='k', histtype='stepfilled')\n",
    "            x = np.linspace(min(bins), max(bins), 500)\n",
    "            gaussian = stats.norm.pdf(x, mu, sigma)\n",
    "            ax[jjj].plot(x, gaussian*(max(n)/max(gaussian)), color=col)\n",
    "\n",
    "            k2, p = stats.normaltest(PDF1d)\n",
    "            print(\"p = {:g}\".format(p))\n",
    "            alpha = 1e-3\n",
    "            if p < alpha:  # null hypothesis: x comes from a normal distribution\n",
    "                print(\"Field is not Gaussian.\")\n",
    "            else:\n",
    "                print(\"Field may be Gaussian.\")\n",
    "        ax[jjj].legend()\n",
    "    plt.show()"
   ]
  },
  {
   "cell_type": "code",
   "execution_count": null,
   "metadata": {},
   "outputs": [],
   "source": [
    "# get mass best fit\n",
    "omega_fit = lambda k, m: k**2. + m\n",
    "\n",
    "def get_masses(bool, multiplier, list_temp):  \n",
    "    masses_null_data, masses_PS_correction_data, masses_late_time_equil_correction_data = [], [], []\n",
    "    for temp in range(len(list_temp)):\n",
    "        if bool: fig, ax = plt.subplots(1, 2*len(all_data), figsize = (25, 4))\n",
    "        for masses, iii in zip([masses_null_data, masses_PS_correction_data, masses_late_time_equil_correction_data], range(len(all_data))):\n",
    "            PSPECS = np.mean([np.abs(np.fft.fftshift(np.fft.fft2(all_data[iii][temp][sim][0], norm='ortho')))**2. for sim in range(nSims)], axis = 0)\n",
    "            T, N = PSPECS.shape\n",
    "            kk = np.fft.fftshift(np.fft.fftfreq(N, d=dx))*2.*np.pi\n",
    "            oo = np.fft.fftshift(np.fft.fftfreq(T, d=dtout))*2.*np.pi\n",
    "\n",
    "            maxVal = np.mean(PSPECS) + multiplier * np.std(PSPECS)\n",
    "            osccoords = np.argwhere(PSPECS > maxVal)\n",
    "\n",
    "            popt, pcov = sco.curve_fit(omega_fit, kk[osccoords[:,1]], oo[osccoords[:,0]]**2.)\n",
    "            if popt[-1] >= 0: masses.append(popt[-1])\n",
    "            else: masses.append('nan')\n",
    "\n",
    "            if bool:\n",
    "                lim = 10\n",
    "                ax[iii*2+0].plot(kk[osccoords[:,1]], oo[osccoords[:,0]], 'o', ms=5, label='freqs')\n",
    "                ax[iii*2+0].plot(kk, np.sqrt(omega_fit(kk,*popt)), label=f'$m^2=$%5.5f'%popt[-1])\n",
    "                ax[iii*2+0].set_title(('Bare mass ' if iii == 0 else 'Dynamical mass ')+'T = '+str(list_temp[temp]))\n",
    "                ax[iii*2+0].set_ylim(0,lim)\n",
    "                ax[iii*2+0].set_xlim(-lim,lim)\n",
    "                ax[iii*2+0].axhline(popt[-1], color='darkgray', ls=':', label='best fit')\n",
    "                ax[iii*2+0].axhline(m2eff, color='darkgray', ls='-.', label='potential mass')\n",
    "                ax[iii*2+0].legend()\n",
    "\n",
    "                lim = 3\n",
    "                ax[iii*2+1].plot(kk, np.sqrt(omega_fit(kk,*popt)), color = 'y', label=f'$m^2=$%5.5f'%popt[-1])\n",
    "                im = ax[iii*2+1].imshow(PSPECS, aspect='auto', interpolation='none', origin='lower', extent=[kk[0],kk[-1],oo[0],oo[-1]])\n",
    "                #ax[iii*2+1].imshow(np.amax(PSPECS)/2.*(coords(p3) & cdsnot(p3+0.2)), aspect='auto', interpolation='none', origin='lower', extent=[kk[0],kk[-1],oo[0],oo[-1]])\n",
    "                clb = plt.colorbar(im, ax = ax[iii*2+1])\n",
    "                ax[iii*2+1].set_title(('Bare mass ' if iii == 0 else 'Dynamical mass ')+'T = '+str(list_temp[temp]))\n",
    "                ax[iii*2+1].set_xlabel(r'$\\bar{k}$')\n",
    "                ax[iii*2+1].set_ylabel(r'$\\bar{\\omega_k}$')\n",
    "                ax[iii*2+1].set_ylim(0,lim)\n",
    "                ax[iii*2+1].set_xlim(-lim,lim)\n",
    "                ax[iii*2+1].axvline(0, color='white', ls=':')\n",
    "                ax[iii*2+1].axhline(0, color='white', ls=':')\n",
    "                ax[iii*2+1].legend()\n",
    "        if bool: plt.show()\n",
    "    return np.asarray(masses_null_data), np.asarray(masses_PS_correction_data), np.asarray(masses_late_time_equil_correction_data)"
   ]
  },
  {
   "cell_type": "code",
   "execution_count": null,
   "metadata": {},
   "outputs": [],
   "source": [
    "if True:\n",
    "    multiplier = 1\n",
    "    list_temperatures_temporary = list_temp\n",
    "\n",
    "    mass_from_data = get_masses(True, multiplier, list_temp)\n",
    "    list_titles = [r'$m^2(T)$ from $V(\\phi; m_{bare}^2)$', r'$m^2(T)$ from $V(\\phi; m^2 + \\Delta m_{PS}^2)$, PS correction (or RMS at t=0)', r'$m^2(T)$ from $V(\\phi; m^2 + \\Delta m_{equil}^2)$, RMS at late time equilibrium']\n",
    "\n",
    "    fig, ax = plt.subplots(1, 1, figsize=(8, 4))\n",
    "    for iii in range(len(all_data)):\n",
    "        plt.plot(list_temp, mass_from_data[iii], 'o', ls='-', label=list_titles[iii])\n",
    "\n",
    "    plt.axhline(m2eff, color='darkgray', ls='--', label='potential mass')\n",
    "    plt.xlabel(r'$T$')\n",
    "    plt.ylabel(r'$m^2(T)$')\n",
    "    plt.legend()\n",
    "    plt.show()"
   ]
  },
  {
   "cell_type": "markdown",
   "metadata": {},
   "source": [
    "### Get profile of omega ^2"
   ]
  },
  {
   "cell_type": "code",
   "execution_count": null,
   "metadata": {},
   "outputs": [],
   "source": [
    "def get_pspec(iii, tem, kkmax_to_average):\n",
    "    pspecs = np.mean([np.abs(np.fft.fftshift(np.fft.fft2(all_data[iii][tem][sim][0], norm='ortho')))**2. for sim in range(nSims)], axis = 0)\n",
    "    T, N = pspecs.shape\n",
    "    kk = np.fft.fftshift(np.fft.fftfreq(N, d=dx))*2.*np.pi\n",
    "    oo = np.fft.fftshift(np.fft.fftfreq(T, d=dtout))*2.*np.pi\n",
    "\n",
    "    pick_freq_window = (kk>0)&(kk<kkmax_to_average)#; print('freqs in window = ', kk[pick_freq_window])\n",
    "    pick_omega = np.sort(oo[oo>0])[0]#; print(f'$\\omega = $', pick_omega)\n",
    "    return np.mean(pspecs[:, pick_freq_window], axis=1)[oo>0], pspecs[oo==pick_omega, kk>0], oo[oo>0], kk[kk>0]\n",
    "\n",
    "if True:\n",
    "    kkmax_to_average = 0.5\n",
    "    masses_from_dispersion_relation = get_masses(False, multiplier, list_temp)\n",
    "\n",
    "    for tem in range(len(list_temp)):\n",
    "        marks = cycle(('o', '*', 'v'))\n",
    "        lsss = cycle(('-', ':', '--'))\n",
    "        colors = cycle(('b', 'g', 'orange', 'r', 'm', 'k'))\n",
    "        fig, ax = plt.subplots(1, 2, figsize = (25, 5))\n",
    "        for iii in range(len(all_data)):\n",
    "            col = next(colors)\n",
    "\n",
    "            window_in_k, fix_omega, oo, kk = get_pspec(iii, tem, kkmax_to_average)   \n",
    "\n",
    "            ax[0].plot(oo, window_in_k, label=['Null', 'PS', 'equil'][iii]+f', $T$ = '+str(list_temp[tem]), color=col)\n",
    "            ax[0].axvline(np.sqrt(masses_from_dispersion_relation[iii][tem]), color=col, ls='--', label='mass from best fit')\n",
    "\n",
    "            ax[1].plot(kk, fix_omega, label=f'$T$ = '+str(list_temp[tem]), color=col, marker=next(marks), ls=next(lsss))\n",
    "\n",
    "        ax[1].set_yscale('log')\n",
    "        [i.set_xlim(0, 3) for i in ax]\n",
    "        [ax[i].set_xlabel((f'$\\omega_k$' if i == 0 else f'$k$')) for i in range(len(ax))]\n",
    "        [i.set_ylabel(f'$|FFT(\\phi_x)|^2$') for i in ax]\n",
    "        [i.legend() for i in ax]\n",
    "        plt.show()"
   ]
  }
 ],
 "metadata": {
  "kernelspec": {
   "display_name": "Python 3.7 (conda) - recommended",
   "language": "python",
   "name": "python37-conda"
  },
  "language_info": {
   "codemirror_mode": {
    "name": "ipython",
    "version": 3
   },
   "file_extension": ".py",
   "mimetype": "text/x-python",
   "name": "python",
   "nbconvert_exporter": "python",
   "pygments_lexer": "ipython3",
   "version": "3.7.0"
  }
 },
 "nbformat": 4,
 "nbformat_minor": 4
}
