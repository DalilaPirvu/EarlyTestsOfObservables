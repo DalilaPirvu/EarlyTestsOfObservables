{
 "cells": [
  {
   "cell_type": "markdown",
   "metadata": {},
   "source": [
    "# Bubble Correlations"
   ]
  },
  {
   "cell_type": "code",
   "execution_count": 1,
   "metadata": {},
   "outputs": [],
   "source": [
    "import numpy as np\n",
    "import math\n",
    "import statistics as stat\n",
    "import matplotlib\n",
    "from matplotlib import gridspec\n",
    "import matplotlib.pyplot as plt\n",
    "import scipy as scp\n",
    "import scipy.optimize as sco\n",
    "import scipy.signal as scs\n",
    "from itertools import cycle\n",
    "import random\n",
    "from numpy import load\n",
    "from mpl_toolkits.axes_grid1 import ImageGrid\n",
    "from matplotlib import ticker\n",
    "from collections import OrderedDict\n",
    "import matplotlib.colors as mcolors\n",
    "import scipy.ndimage\n",
    "from scipy.ndimage import gaussian_filter1d"
   ]
  },
  {
   "cell_type": "code",
   "execution_count": 2,
   "metadata": {},
   "outputs": [],
   "source": [
    "np_load_old = np.load\n",
    "np.load = lambda *a,**k: np_load_old(*a, allow_pickle=True, **k)"
   ]
  },
  {
   "cell_type": "markdown",
   "metadata": {},
   "source": [
    "### Simulation Parameters "
   ]
  },
  {
   "cell_type": "code",
   "execution_count": 3,
   "metadata": {},
   "outputs": [
    {
     "name": "stdout",
     "output_type": "stream",
     "text": [
      "splitdata  [    0  1000  2000  3000  4000  5000  6000  7000  8000  9000 10000 11000\n",
      " 12000 13000 14000 15000 16000 17000 18000 19000 20000]\n",
      "lenLat =  2795.084971874737\n",
      "dx, dk, spec  0.6823937919616058 0.0022479407139330324 2049\n",
      "dtout/dt =  16.0\n",
      "light_cone =  2\n",
      "units =  2.0\n",
      "threhsolds:  [4.454971420635487, 4.556538858776825, 4.658106296918165]\n"
     ]
    },
    {
     "data": {
      "image/png": "[encoded data removed]",
      "text/plain": [
       "<Figure size 432x288 with 1 Axes>"
      ]
     },
     "metadata": {
      "needs_background": "light"
     },
     "output_type": "display_data"
    }
   ],
   "source": [
    "nTime = 256\n",
    "nLat = 4096\n",
    "lSim = 0\n",
    "nSims = 20000\n",
    "stepSim = 1000\n",
    "splitdata = np.arange(lSim, nSims+1, stepSim); print('splitdata ', splitdata)\n",
    "\n",
    "filter_size = 10.\n",
    "temp = 3#2.5\n",
    "phi0 = 2.5*np.pi\n",
    "lamb = 1.5\n",
    "\n",
    "nu = 2.*10**(-3)\n",
    "V0 = 4.*nu\n",
    "m2eff = lambda lam: V0 * (- 1. + lam**2)\n",
    "lenLat = 250. / np.sqrt(V0); print('lenLat = ', lenLat)\n",
    "phi_initial = np.pi\n",
    "\n",
    "nyq = nLat//2+1; spec = nyq; dx = lenLat/nLat; dk = 2.*np.pi/lenLat; print('dx, dk, spec ', dx, dk, spec)\n",
    "alpha = 8.; dt = dx/alpha; dtout = dt*nLat/nTime; print('dtout/dt = ', dtout/dt)\n",
    "light_cone = int(dtout/dx); print('light_cone = ', light_cone)\n",
    "unit_conv = nLat/nTime/alpha; print('units = ', unit_conv)\n",
    "\n",
    "tcheck = lambda ignore, lam: ignore/np.sqrt(m2eff(lam))/dtout\n",
    "tTime = lambda ignore, lam: int(nTime - tcheck(ignore, lam))\n",
    "\n",
    "V = lambda phi, lam: V0 * (-np.cos(phi)+0.5*lam**2.*np.sin(phi)**2.)\n",
    "dV = lambda phi, lam: V0 * (np.sin(phi)+0.5*lam**2.*np.sin(2.*phi))\n",
    "\n",
    "far_right_phi_at_V_max = sco.minimize_scalar(lambda x: -V(x, lamb), bounds=[2*np.pi, 3*np.pi], method='bounded')\n",
    "right_phi_at_V_max = sco.minimize_scalar(lambda x: -V(x, lamb), bounds=[np.pi, 2*np.pi], method='bounded')\n",
    "#left_phi_at_V_max = sco.minimize_scalar(lambda x: -V(x, lamb), bounds=[0, np.pi], method='bounded')\n",
    "#phi_upper_bound = sco.fsolve(lambda x: V(x, lamb) - V(phi_initial, lamb), 5)[0]; print(phi_upper_bound)\n",
    "#phi_lower_bound = sco.fsolve(lambda x: V(x, lamb) - V(phi_initial, lamb), 1)[0]; print(phi_lower_bound)\n",
    "\n",
    "list_multiplier = [0.1, 0.15, 0.2]\n",
    "list_threshold= [right_phi_at_V_max.x + np.abs(right_phi_at_V_max.x-2*phi_initial)*multiplier for multiplier in list_multiplier]; print('threhsolds: ', list_threshold)\n",
    "\n",
    "plt.plot(np.linspace(0, 3*np.pi, 100), V(np.linspace(0, 3*np.pi, 100), lamb))\n",
    "#plt.plot(phi_upper_bound, V(phi_upper_bound, lamb), 'ro', phi_lower_bound, V(phi_lower_bound, lamb), 'go', left_phi_at_V_max.x, V(left_phi_at_V_max.x, lamb), 'ko')\n",
    "plt.plot(right_phi_at_V_max.x, V(right_phi_at_V_max.x, lamb), 'bo', far_right_phi_at_V_max.x, V(far_right_phi_at_V_max.x, lamb), 'yo')\n",
    "plt.plot(list_threshold, V(list_threshold, lamb), 'g*')\n",
    "\n",
    "list_type = ['++', '--', '++--', '+-', '-+']\n",
    "thcorr = ['++', 'foo', '++--', '+-', 'foo']\n",
    "list_data_plot = [0, 2, 1]\n",
    "list_title_type = [r'$\\xi^{++}_{bb}(t,r)$', r'$\\xi^{--}_{bb}(t,r)$', r'$\\xi^{overall}_{bb}(t,r)$', r'$\\xi^{+-}_{bb}(t,r)$', r'$\\xi^{-+}_{bb}(t,r)$']\n",
    "\n",
    "Rrange = lambda minx, maxx, stepx: np.arange(minx, maxx+1, stepx)\n",
    "Trange = lambda minx, maxx, stepx: np.arange(minx, maxx+1, stepx)\n",
    "\n",
    "list_phi0 = [phi0]\n",
    "list_lamb = [lamb]\n",
    "list_temp = [temp]"
   ]
  },
  {
   "cell_type": "markdown",
   "metadata": {},
   "source": [
    "### Theoretical PS"
   ]
  },
  {
   "cell_type": "code",
   "execution_count": 4,
   "metadata": {},
   "outputs": [],
   "source": [
    "norm = lambda phi: 1./ phi / np.sqrt(lenLat)\n",
    "freqs = dk * np.asarray(np.arange(1,nLat/2).tolist() + np.arange(-nLat/2,0).tolist())\n",
    "omega = lambda lam: np.sqrt(freqs**2. + m2eff(lam))\n",
    "Filter = lambda sigma: np.exp(-0.5* (freqs*dx*sigma)**2.)\n",
    "\n",
    "spectral_field = lambda phi, lam, tem: norm(phi) * np.sqrt(2./(np.exp(omega(lam)/tem) - 1.)) / np.sqrt(2.*omega(lam))\n",
    "pspec = lambda phi, lam, tem, sigma: np.abs(spectral_field(phi, lam, tem) * Filter(sigma))**2.\n",
    "sigma0_th = lambda phi, lam, tem, sigma: np.sqrt(np.sum(pspec(phi, lam, tem, sigma)))\n",
    "list_thersholds_field_units = lambda phi, lam, tem, sigma: (np.asarray(list_threshold) - phi_initial) / sigma0_th(phi, lam, tem, sigma)"
   ]
  },
  {
   "cell_type": "code",
   "execution_count": 5,
   "metadata": {},
   "outputs": [
    {
     "data": {
      "text/plain": [
       "0.3539452452138679"
      ]
     },
     "execution_count": 5,
     "metadata": {},
     "output_type": "execute_result"
    }
   ],
   "source": [
    "sigma0_th(phi0, lamb, temp, filter_size)"
   ]
  },
  {
   "cell_type": "code",
   "execution_count": 6,
   "metadata": {},
   "outputs": [
    {
     "data": {
      "text/plain": [
       "array([3.71068346, 3.99764151, 4.28459956])"
      ]
     },
     "execution_count": 6,
     "metadata": {},
     "output_type": "execute_result"
    }
   ],
   "source": [
    "list_thersholds_field_units(phi0, lamb, temp, filter_size)"
   ]
  },
  {
   "cell_type": "markdown",
   "metadata": {},
   "source": [
    "### Import the Data "
   ]
  },
  {
   "cell_type": "code",
   "execution_count": 7,
   "metadata": {},
   "outputs": [],
   "source": [
    "#correlator = \n",
    "#np.save(thrcorr_file(2, list_threshold[2], list_phi0[2], list_lamb[2]), correlator)"
   ]
  },
  {
   "cell_type": "code",
   "execution_count": 8,
   "metadata": {},
   "outputs": [],
   "source": [
    "plots_file = '/home/dpirvu/project/thermal_bubbles/plots/targets/'\n",
    "pickle_file = '/home/dpirvu/project/pickle_location/thermal_bubbles/targets/'\n",
    "\n",
    "sim_location = lambda nL, tem, phi, lam, sim: '/gpfs/dpirvu/thermal_bubbles/bubbles_x'+str(nL)+'_temp{:.4f}'.format(tem)+'_phi0{:.4f}'.format(phi)+'_lamb{:.4f}'.format(lam)+'_sim'+str(sim)+'_fields.dat'\n",
    "sim_suffix = lambda phi, lam, tem: '_for_temp{:.4f}'.format(tem)+'_phi0{:.4f}'.format(phi)+'_lamb{:.4f}'.format(lam)\n",
    "bubbles_file = lambda phi, lam, tem, minsim, maxsim: pickle_file+'bubbles_from_sim'+str(minsim)+'_up_to'+str(maxsim-1)+sim_suffix(phi, lam, tem)+'.npy'\n",
    "posDataFile = lambda phi, lam, tem, minsim, maxsim, mltpl, sigma: pickle_file+'positiveTargets_sims'+str(minsim)+'_to'+str(maxsim-1)+'_multiplier'+str(mltpl)+'_filter{:.4f}'.format(sigma)+sim_suffix(phi, lam, tem)+'.npy'\n",
    "negDataFile = lambda phi, lam, tem, minsim, maxsim, mltpl, sigma: pickle_file+'negativeTargets_sims'+str(minsim)+'_to'+str(maxsim-1)+'_multiplier'+str(mltpl)+'_filter{:.4f}'.format(sigma)+sim_suffix(phi, lam, tem)+'.npy'\n",
    "\n",
    "pickle_location = lambda phi, lam, tem: pickle_file + 'temp{:-2f}'.format(tem)+'_phi0{:-2f}'.format(phi)+'_lamb{:-2f}'.format(lam)+'/'\n",
    "thrcorr_file = lambda phi, lam, tem, typec, thresh: pickle_location(phi, lam, tem) + 'th_corr_type'+str(typec)+'_thresh'+str(thresh)+'.npy'\n",
    "\n",
    "Filter = lambda sigma: np.exp(-0.5* (np.fft.fftfreq(nLat, dx)*2*np.pi*dx*sigma)**2.)\n",
    "smoothen = lambda slice, sigma: np.fft.ifft(np.fft.fft(slice)*Filter(sigma)).real\n",
    "list_thresh = lambda tem, sigma: np.arange(1, 500)/100*sigma0_th(tem, sigma)\n",
    "round_to_n = lambda x, n: x if x == 0 else round(x, -int(math.floor(math.log10(abs(x)))) + (n - 1))\n",
    "\n",
    "def import_all_data(phi, lam, tem, multiplier, sigma, ignore):\n",
    "    postlist = np.concatenate(tuple([np.load(posDataFile(phi, lam, tem, minSim, maxSim, multiplier, sigma)) for minSim, maxSim in zip(splitdata, splitdata[1:])]))\n",
    "    negtlist = np.concatenate(tuple([np.load(negDataFile(phi, lam, tem, minSim, maxSim, multiplier, sigma)) for minSim, maxSim in zip(splitdata, splitdata[1:])]))\n",
    "    postlist = [[i for i in simlist if i[0] > tcheck(ignore, lamb)] for simlist in postlist]\n",
    "    negtlist = [[i for i in simlist if i[0] > tcheck(ignore, lamb)] for simlist in negtlist]\n",
    "    return postlist, negtlist"
   ]
  },
  {
   "cell_type": "markdown",
   "metadata": {},
   "source": [
    "### Correlation Functions"
   ]
  },
  {
   "cell_type": "code",
   "execution_count": 9,
   "metadata": {},
   "outputs": [],
   "source": [
    "def get_numdens(typec, multiplier, threshold, phi, lam, tem, filter, ignore):\n",
    "    PositiveTargets, NegativeTargets = import_all_data(phi, lam, tem, multiplier, filter, ignore)\n",
    "    simVol = nLat * tTime(ignore, lam)\n",
    "    if typec == 0:\n",
    "        allTargets = PositiveTargets + NegativeTargets\n",
    "        nSims = len(allTargets)\n",
    "        nBubs = np.asarray([len(ii) for ii in allTargets])\n",
    "    elif typec == 1:\n",
    "        allTargets = [PositiveTargets[sim] + NegativeTargets[sim] for sim in range(len(PositiveTargets))]\n",
    "        nSims = len(allTargets)\n",
    "        nBubs = np.asarray([len(ii) for ii in allTargets])\n",
    "    elif typec == 2:\n",
    "        allTargets = PositiveTargets + NegativeTargets\n",
    "        nSims = len(allTargets)\n",
    "        nBubs = np.asarray([len(ii)+1 for ii in allTargets])\n",
    "    return sum(nBubs) / nSims / simVol\n",
    "\n",
    "def generate_random_targets(nNull, ign, lam):\n",
    "    nullXCoords = np.asarray(random.choices(np.arange(nLat), k = nNull))\n",
    "    nullTCoords = np.asarray(random.choices(np.arange(tcheck(ign, lam), nTime), k = nNull))\n",
    "    coords = [(nullTCoords[k], nullXCoords[k]) for k in range(nNull)]\n",
    "    copies = list(set([ele for ele in coords if coords.count(ele) > 1]))\n",
    "    [coords.remove(ele) for ele in copies]\n",
    "    return np.asarray(coords)\n",
    "\n",
    "def gpthetafactor(R, RR, T, TT, nRandSim, nNull, ign, lam):\n",
    "    npairs, nrands = [], []\n",
    "    for sim in range(nRandSim):\n",
    "        counter = 0.\n",
    "        nullCoords = generate_random_targets(nNull, ign, lam)\n",
    "        nNumber = len(nullCoords)\n",
    "\n",
    "        for nullloc in range(nNumber)[::-1]:\n",
    "            ndt = nullCoords[nullloc, 0] - nullCoords[:, 0]\n",
    "            ndx = np.abs(nullCoords[nullloc,1] - nullCoords[:,1])\n",
    "            ndx[ndx > nLat//2] = nLat - ndx[ndx > nLat//2]\n",
    "            counter += len([l for l in range(len(ndx)) if (R <= ndx[l] < RR and T <= ndt[l] < TT)])\n",
    "            nullCoords = nullCoords[:-1]\n",
    "        npairs.append(counter/(nNumber*(nNumber-1)/2.))\n",
    "        nrands.append(nNumber)\n",
    "    return np.mean(npairs), np.mean(nrands)"
   ]
  },
  {
   "cell_type": "code",
   "execution_count": 10,
   "metadata": {},
   "outputs": [],
   "source": [
    "def correlator(typec, PositiveTargets, NegativeTargets, R, RR, T, TT, lam, Gtheta):\n",
    "    if typec == 0:\n",
    "        allTargets = PositiveTargets + NegativeTargets\n",
    "    elif typec == 1:\n",
    "        allTargets = [PositiveTargets[sim] + NegativeTargets[sim] for sim in range(len(PositiveTargets))]\n",
    "\n",
    "    DCorrelator = []\n",
    "    for sim in range(len(allTargets)):\n",
    "        bubbleCoords = np.asarray(allTargets[sim])\n",
    "        nBubbles = len(bubbleCoords)\n",
    "        bubCounter = 0.\n",
    "\n",
    "        if nBubbles > 1:\n",
    "            for bubloc in range(nBubbles)[::-1]:\n",
    "                bdt = bubbleCoords[bubloc,0] - bubbleCoords[:,0]\n",
    "                bdx = np.abs(bubbleCoords[bubloc,1] - bubbleCoords[:,1])\n",
    "                bdx[bdx > nLat//2] = nLat - bdx[bdx > nLat//2]\n",
    "                bubCounter += len([l for l in range(len(bdx)) if (R <= bdx[l] < RR and T <= bdt[l] < TT)])\n",
    "                bubbleCoords = bubbleCoords[::-1]\n",
    "\n",
    "#                mdt = bubbleCoords[bubloc,0] - nullCoords[:, 0]\n",
    "#                mdx = np.abs(bubbleCoords[bubloc,1] - nullCoords[:,1])\n",
    "#                mdx[mdx > nLat//2] = nLat - mdx[mdx > nLat//2]\n",
    "#                mixedCounter += len([l for l in range(len(mdx)) if (R <= mdx[l] < RR and T <= mdt[l] < TT)])\n",
    "\n",
    "            DCorrelator.append( 2.*bubCounter / Gtheta / nBubbles / (nBubbles-1.) - 2.*mixedCounter / Gtheta / nBubbles / nNull )\n",
    "    return np.mean(DCorrelator) - 1.\n",
    "\n",
    "\n",
    "def correlator(typec, PositiveTargets, NegativeTargets, R, RR, T, TT, lam, Gtheta):\n",
    "    if typec == 0:\n",
    "        allTargets = PositiveTargets + NegativeTargets\n",
    "    elif typec == 1:\n",
    "        allTargets = [PositiveTargets[sim] + NegativeTargets[sim] for sim in range(len(PositiveTargets))]\n",
    "\n",
    "    DCorrelator = []\n",
    "    for sim in range(len(allTargets)):\n",
    "        bubbleCoords = np.asarray(allTargets[sim])\n",
    "        nBubbles = len(bubbleCoords)\n",
    "        bubCounter = 0.\n",
    "\n",
    "        if nBubbles > 1:\n",
    "            for bubloc in range(nBubbles)[::-1]:\n",
    "                bdt = bubbleCoords[bubloc,0] - bubbleCoords[:,0]\n",
    "                bdx = np.abs(bubbleCoords[bubloc,1] - bubbleCoords[:,1])\n",
    "                bdx[bdx > nLat//2] = nLat - bdx[bdx > nLat//2]\n",
    "                bubCounter += len([l for l in range(len(bdx)) if (R <= bdx[l] < RR and T <= bdt[l] < TT)])\n",
    "                bubbleCoords = bubbleCoords[::-1]\n",
    "\n",
    "#                mdt = bubbleCoords[bubloc,0] - nullCoords[:, 0]\n",
    "#                mdx = np.abs(bubbleCoords[bubloc,1] - nullCoords[:,1])\n",
    "#                mdx[mdx > nLat//2] = nLat - mdx[mdx > nLat//2]\n",
    "#                mixedCounter += len([l for l in range(len(mdx)) if (R <= mdx[l] < RR and T <= mdt[l] < TT)])\n",
    "\n",
    "            DCorrelator.append( bubCounter / Gtheta / (nBubbles * (nBubbles - 1.) / 2. ) )\n",
    "#            DCorrelator.append( bubCounter / Gtheta / nBubbles / nrands )\n",
    "    return np.mean(DCorrelator) - 1.\n",
    "\n",
    "def mixed_correlator(PositiveTargets, NegativeTargets, R, RR, T, TT, lam, Gtheta):\n",
    "    area = 2 * np.abs(RR-R) * np.abs(TT-T)\n",
    "    area_fraction = area / nLat / nTime\n",
    "    DCorrelator = 0.\n",
    "\n",
    "    for sim in range(len(PositiveTargets)):\n",
    "        posBubbleCoords, negBubbleCoords = np.asarray(PositiveTargets[sim]), np.asarray(NegativeTargets[sim])\n",
    "        nPosBubbles, nNegBubbles = len(posBubbleCoords), len(negBubbleCoords)\n",
    "        bubCounterP, bubCounterN = 0., 0.\n",
    "\n",
    "        if nPosBubbles > 0 and nNegBubbles > 0:\n",
    "            for bubloc in range(nPosBubbles):\n",
    "                pbdt = posBubbleCoords[bubloc,0] - negBubbleCoords[:,0]\n",
    "                pbdx = np.abs(posBubbleCoords[bubloc,1] - negBubbleCoords[:,1])\n",
    "                pbdx[pbdx > nLat//2] = nLat - pbdx[pbdx > nLat//2]\n",
    "                bubCounterP += len([l for l in range(len(pbdx)) if (R <= pbdx[l] < RR and T <= pbdt[l] < TT)]) / nNegBubbles # fraction of bubbles of opposite type out of total\n",
    "            DCorrelator += bubCounterP / nPosBubbles # normalize sum by number of objects in it\n",
    "            \n",
    "#            for bubloc in range(nNegBubbles):\n",
    "#                nbdt = negBubbleCoords[bubloc,0] - posBubbleCoords[:,0]\n",
    "#                nbdx = np.abs(negBubbleCoords[bubloc,1] - posBubbleCoords[:,1])\n",
    "#                nbdx[nbdx > nLat//2] = nLat - nbdx[nbdx > nLat//2]\n",
    "#                bubCounterN += len([l for l in range(len(nbdx)) if (R <= nbdx[l] < RR and T <= nbdt[l] < TT)]) / nPosBubbles # fraction of bubbles of opposite type out of total\n",
    "#            DCorrelator += bubCounterN / nNegBubbles # normalize sum by number of objects in it\n",
    "    return DCorrelator / len(PositiveTargets) / area_fraction - 1.\n",
    "\n",
    "def empirical_corr_and_err(typec, phi, lam, tem, multiplier, filter, R, RR, T, TT, Gtheta):\n",
    "    counter = []\n",
    "    PositiveTargets, NegativeTargets = import_all_data(phi, lam, tem, multiplier, filter, ignore)\n",
    "    batches = np.arange(0, len(PositiveTargets)+1, stepSim)\n",
    "    for sim_min, sim_max in zip(batches[:-1:], batches[1:]):\n",
    "        posTGS, negTGS = PositiveTargets[sim_min:sim_max], NegativeTargets[sim_min:sim_max]\n",
    "        \n",
    "        if typec in [0, 1]:\n",
    "            counter.append(correlator(typec, posTGS, negTGS, R, RR, T, TT, lam, Gtheta))\n",
    "        else:\n",
    "            counter.append(mixed_correlator(posTGS, negTGS, R, RR, T, TT, lam))\n",
    "    return np.nanmean(counter), np.std(counter)/np.sqrt(len(counter)+1)\n",
    "\n",
    "def correlation_functions(multiplier, threshold, phi, lam, tem, filter, typec, xrange, T, TT, nRandSim, nNull, ignore):\n",
    "    Gtheta, nrands = gpthetafactor(xrange[0], xrange[1], T, TT, nRandSim, nNull, ignore, lam); print('Gtheta :', Gtheta)\n",
    "    res = [empirical_corr_and_err(typec, phi, lam, tem, multiplier, filter, R, RR, T, TT, Gtheta) for R, RR in zip(xrange[:-1:], xrange[1:])]\n",
    "    return np.asarray(res)\n",
    "\n",
    "def spacetime_correlator(phi, lam, tem, filter, typec, xrange, trange, nRandSim, nNull, ignore):\n",
    "    valmin, valmax = 0, 0\n",
    "    matrix_vec = []\n",
    "    for multiplier, threshold in zip(list_multiplier, list_threshold):\n",
    "        posTGS, negTGS = import_all_data(phi, lam, tem, multiplier, filter, ignore)\n",
    "        Gtheta, nrands = gpthetafactor(xrange[0], xrange[1], trange[0], trange[1], nRandSim, nNull, ignore, lam); print('Gtheta :', Gtheta)\n",
    "\n",
    "        matrix = np.asarray([[-1.]*len(xrange[:-1])]*len(trange[:-1]))\n",
    "        for tind in range(len(trange[:-1])):\n",
    "            T, TT = trange[:-1][tind], trange[1:][tind]\n",
    "            for xind in range(len(xrange[:-1])):\n",
    "                R, RR = xrange[:-1][xind], xrange[1:][xind]\n",
    "                if typec in [0, 1]:\n",
    "                    corr_func = correlator(typec, posTGS, negTGS, R, RR, T, TT, lam, Gtheta)\n",
    "                else:\n",
    "                    corr_func = mixed_correlator(posTGS, negTGS, R, RR, T, TT, lam)\n",
    "                matrix[tind, xind] = corr_func\n",
    "        matrix_vec.append(matrix)\n",
    "    return np.asarray(matrix_vec)"
   ]
  },
  {
   "cell_type": "markdown",
   "metadata": {},
   "source": [
    "### One-Dimensional Correlators "
   ]
  },
  {
   "cell_type": "code",
   "execution_count": 11,
   "metadata": {},
   "outputs": [],
   "source": [
    "def data_file_1D(typec, xstep, multiplier, phi, lam, tem, filter, deltat, ignore):\n",
    "    return pickle_file+'1d_type'+str(typec)+'_xstep'+str(xstep)+'_deltat'+str(deltat)+'_ignoring'+str(ignore)+'_multiplier'+str(multiplier)+'_filter{:.4f}'.format(filter)+sim_suffix(phi,lam,tem)+'.npy'\n",
    "\n",
    "def data_file_2D(typec, xstep, tstep, phi, lam, tem, filter, ignore):\n",
    "    return pickle_file+'2d_type'+str(typec)+'_xstep'+str(xstep)+'_tstep'+str(tstep)+'_ignoring'+str(ignore)+'_filter{:.4f}'.format(filter)+sim_suffix(phi,lam,tem)+'.npy'\n"
   ]
  },
  {
   "cell_type": "code",
   "execution_count": null,
   "metadata": {},
   "outputs": [
    {
     "name": "stdout",
     "output_type": "stream",
     "text": [
      "52428\n",
      "0.0\n"
     ]
    }
   ],
   "source": [
    "xmin = 1\n",
    "xmax = nLat//2\n",
    "Tmin = 0\n",
    "Tmax = 2\n",
    "nNull = nTime*nLat//2//5//2; print(nNull)\n",
    "nRandSim = 100\n",
    "\n",
    "data_vec = [0]\n",
    "for ignore in np.arange(0, 6, 2)[:1]:\n",
    "    print(tcheck(ignore, lamb))\n",
    "    for xstep, smoothing in zip([5, 10], np.ones(3)*filter_size):\n",
    "        xrange = Rrange(xmin, xmax, xstep)\n",
    "        for multiplier, threshold in zip(list_multiplier, list_threshold):\n",
    "            for phi0, lamb, temp in zip(list_phi0, list_lamb, list_temp):\n",
    "                for typec in data_vec:\n",
    "                    corr_data = correlation_functions(multiplier, threshold, phi0, lamb, temp, smoothing, typec, xrange, Tmin, Tmax, nRandSim, nNull, ignore)\n",
    "                    np.save(data_file_1D(typec, xstep, multiplier, phi0, lamb, temp, smoothing, np.abs(Tmax-Tmin), ignore), corr_data)\n",
    "                    print('Done')"
   ]
  },
  {
   "cell_type": "markdown",
   "metadata": {},
   "source": [
    "### Two-Dimensional Correlators "
   ]
  },
  {
   "cell_type": "code",
   "execution_count": null,
   "metadata": {},
   "outputs": [],
   "source": [
    "#xmax = 300\n",
    "#xmin = 1\n",
    "#tmax = 31\n",
    "#tmin = -30\n",
    "#tstep = 1\n",
    "#trange = Trange(tmin, tmax, tstep)\n",
    "#ignore = 2\n",
    "\n",
    "#for xstep, smoothing in zip([3, 5, 10], np.ones(3)*filter_size):\n",
    "#    xrange = Rrange(xmin, xmax, xstep)\n",
    "#    for phi0, lamb, temp in zip(list_phi0, list_lamb, list_temp):\n",
    "#        corr_data = spacetime_correlator(phi0, lamb, temp, smoothing, 0, xrange, trange, ignore)\n",
    "#        np.save(data_file_2D(0, xstep, tstep, phi0, lamb, temp, smoothing, ignore), corr_data)\n",
    "#        print('Done')"
   ]
  },
  {
   "cell_type": "code",
   "execution_count": null,
   "metadata": {},
   "outputs": [],
   "source": []
  },
  {
   "cell_type": "code",
   "execution_count": null,
   "metadata": {},
   "outputs": [],
   "source": []
  }
 ],
 "metadata": {
  "kernelspec": {
   "display_name": "Python 3.7 (conda) - recommended",
   "language": "python",
   "name": "python37-conda"
  },
  "language_info": {
   "codemirror_mode": {
    "name": "ipython",
    "version": 3
   },
   "file_extension": ".py",
   "mimetype": "text/x-python",
   "name": "python",
   "nbconvert_exporter": "python",
   "pygments_lexer": "ipython3",
   "version": "3.7.0"
  }
 },
 "nbformat": 4,
 "nbformat_minor": 4
}
