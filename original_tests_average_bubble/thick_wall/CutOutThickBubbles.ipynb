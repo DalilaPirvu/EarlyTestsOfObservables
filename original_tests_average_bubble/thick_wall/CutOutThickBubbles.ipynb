{
 "cells": [
  {
   "cell_type": "markdown",
   "metadata": {},
   "source": [
    "# Extract bubble from simulations"
   ]
  },
  {
   "cell_type": "code",
   "execution_count": 1,
   "metadata": {},
   "outputs": [],
   "source": [
    "import numpy as np\n",
    "import scipy as scp\n",
    "from scipy import optimize\n",
    "import matplotlib.pyplot as plt"
   ]
  },
  {
   "cell_type": "markdown",
   "metadata": {},
   "source": [
    "### Simulation Parameters "
   ]
  },
  {
   "cell_type": "code",
   "execution_count": 2,
   "metadata": {},
   "outputs": [
    {
     "name": "stdout",
     "output_type": "stream",
     "text": [
      "lamb =  1.5\n",
      "m2eff =  0.01\n",
      "lenLat =  1581.1388300841897\n",
      "phi0 =  1.5707963267948966\n"
     ]
    }
   ],
   "source": [
    "nLat = 4096\n",
    "nSims = 100\n",
    "minSim = 0\n",
    "nCols = 4\n",
    "\n",
    "phi_initial = np.pi\n",
    "nu = 2.*10**(-3)\n",
    "lamb = 1.5; print('lamb = ', lamb)\n",
    "m2eff = 4. * nu * (- 1. + lamb**2); print('m2eff = ', m2eff)\n",
    "lenLat = 2 * 50. / np.sqrt(2. * nu); print('lenLat = ', lenLat)\n",
    "phi0 = 2. * np.pi / 4.; print('phi0 = ', phi0)"
   ]
  },
  {
   "cell_type": "code",
   "execution_count": 3,
   "metadata": {},
   "outputs": [
    {
     "name": "stdout",
     "output_type": "stream",
     "text": [
      "4.823729994725654\n",
      "1.4594553124539482\n"
     ]
    }
   ],
   "source": [
    "pickle_location = '/gpfs/dpirvu/thick_wall_average_bubble/'\n",
    "suffix = '_for_phi0{:.4f}'.format(phi0)+'_lambda'+str(lamb)+'_len{:.4f}'.format(lenLat)+'_x'+str(nLat)\n",
    "\n",
    "def bubbles_file(min, max):\n",
    "    return pickle_location+'bubbles_from_sim'+str(min)+'_up_to_sim'+str(max-1)+suffix+'.npy'\n",
    "def sim_location(sim):\n",
    "    return '/gpfs/dpirvu/sims/x'+str(nLat)+'_phi0{:.4f}'.format(phi0)+'_lambda{:.4f}'.format(lamb)+'_sim'+str(sim)+'_fields.dat'\n",
    "\n",
    "def V(phi):\n",
    "    return ( -np.cos(phi) + 0.5 * lamb**2 * np.sin(phi)**2 ) * 4 * nu\n",
    "def F(x):\n",
    "    return V(x) - V(phi_initial)\n",
    "\n",
    "phi_upper_bound = optimize.fsolve(F, 5)[0]; print(phi_upper_bound)\n",
    "phi_lower_bound = optimize.fsolve(F, 0.5)[0]; print(phi_lower_bound)"
   ]
  },
  {
   "cell_type": "markdown",
   "metadata": {},
   "source": [
    "### Extract data from files"
   ]
  },
  {
   "cell_type": "code",
   "execution_count": 1,
   "metadata": {},
   "outputs": [],
   "source": [
    "def extract_data(filename, col):\n",
    "#    print(filename)\n",
    "    infile = open(filename,'r')\n",
    "    lines = infile.readlines()\n",
    "    field_values = [float(line.split()[col]) for line in lines[3:]]\n",
    "    infile.close()\n",
    "    return field_values\n",
    "\n",
    "def check_decay(simulation):\n",
    "    right_phi = sum([1 for x in simulation[-1] if x > phi_upper_bound])\n",
    "    left_phi = sum([1 for x in simulation[-1] if x < phi_lower_bound])\n",
    "    if right_phi > nLat*0.1 and left_phi < nLat*0.02: return 0\n",
    "    elif left_phi > nLat*0.1 and right_phi < nLat*0.02: return 1\n",
    "    else: return 2\n",
    "\n",
    "def time_at_fraction(bubble, frac, limit):\n",
    "    T, N = len(bubble), len(bubble[0])\n",
    "    right_phi_x = [np.sum([1 for x in slice if x >= limit]) for slice in bubble]\n",
    "    time_list = [t if (right_phi_x[t] <= N*frac) else 0 for t in range(T)]\n",
    "    return next((t for t in time_list[::-1] if t != 0), 0)\n",
    "\n",
    "def triage(sim):\n",
    "    y = extract_data(sim_location(sim), 0)\n",
    "    nT = len(y)//nLat\n",
    "    tmin = 3000\n",
    "    if nT > tmin:\n",
    "        outcome = check_decay(np.reshape(y, (nT, nLat)))\n",
    "        if outcome != 2:\n",
    "            data = [extract_data(sim_location(sim), col) for col in range(nCols)]\n",
    "            try:\n",
    "                data = [np.reshape(data[col], (nT, nLat)) for col in range(nCols)]\n",
    "            except ValueError:\n",
    "                return None\n",
    "            if outcome == 1:\n",
    "                data[0] = [2*phi_initial - i for i in data[0]]\n",
    "                if nCols > 1:\n",
    "                    data[1] = [-j for j in data[1]]\n",
    "            tdecap = time_at_fraction(data[0], 0.01, phi_upper_bound)\n",
    "            tdecap0 = tdecap + 2000\n",
    "            data = [data[i][max(tdecap-tmin, 0):tdecap0] for i in range(len(data))]\n",
    "            print('sim', sim, ', duration ', nT)\n",
    "            return data, sim\n",
    "\n",
    "def alldata():\n",
    "    all_rsp_data, sims_to_keep = [], []\n",
    "    for sim in range(minSim, nSims):\n",
    "        if sim == nSims // 2:\n",
    "            print('Halfway through.')\n",
    "        a = triage(sim)\n",
    "        if a is not None:\n",
    "            data, sim = a\n",
    "            all_rsp_data.append(data)\n",
    "            sims_to_keep.append(sim)\n",
    "    return all_rsp_data, sims_to_keep\n",
    "\n",
    "def checkdata():\n",
    "    all_rsp_data = []\n",
    "    for sim in range(minSim, nSims):\n",
    "        if sim == nSims // 2:\n",
    "            print('Halfway through.')\n",
    "        y = extract_data(sim_location(sim), 0)\n",
    "        nT = len(y)//nLat\n",
    "        data = [np.reshape(extract_data(sim_location(sim), col), (nT, nLat)) for col in range(nCols)]\n",
    "        all_rsp_data.append(data)\n",
    "    return all_rsp_data"
   ]
  },
  {
   "cell_type": "code",
   "execution_count": 5,
   "metadata": {},
   "outputs": [
    {
     "ename": "MemoryError",
     "evalue": "",
     "output_type": "error",
     "traceback": [
      "\u001b[0;31m---------------------------------------------------------------------------\u001b[0m",
      "\u001b[0;31mMemoryError\u001b[0m                               Traceback (most recent call last)",
      "\u001b[0;32m<ipython-input-5-5b1e4fa827f8>\u001b[0m in \u001b[0;36m<module>\u001b[0;34m\u001b[0m\n\u001b[0;32m----> 1\u001b[0;31m \u001b[0mall_data\u001b[0m\u001b[0;34m,\u001b[0m \u001b[0msims_to_keep\u001b[0m \u001b[0;34m=\u001b[0m \u001b[0malldata\u001b[0m\u001b[0;34m(\u001b[0m\u001b[0;34m)\u001b[0m\u001b[0;34m\u001b[0m\u001b[0m\n\u001b[0m\u001b[1;32m      2\u001b[0m \u001b[0;31m#all_data = checkdata()\u001b[0m\u001b[0;34m\u001b[0m\u001b[0;34m\u001b[0m\u001b[0m\n\u001b[1;32m      3\u001b[0m \u001b[0mprint\u001b[0m\u001b[0;34m(\u001b[0m\u001b[0mnp\u001b[0m\u001b[0;34m.\u001b[0m\u001b[0mshape\u001b[0m\u001b[0;34m(\u001b[0m\u001b[0mall_data\u001b[0m\u001b[0;34m)\u001b[0m\u001b[0;34m)\u001b[0m\u001b[0;34m\u001b[0m\u001b[0m\n",
      "\u001b[0;32m<ipython-input-4-a927d749ec65>\u001b[0m in \u001b[0;36malldata\u001b[0;34m()\u001b[0m\n\u001b[1;32m     47\u001b[0m         \u001b[0;32mif\u001b[0m \u001b[0msim\u001b[0m \u001b[0;34m==\u001b[0m \u001b[0mnSims\u001b[0m \u001b[0;34m//\u001b[0m \u001b[0;36m2\u001b[0m\u001b[0;34m:\u001b[0m\u001b[0;34m\u001b[0m\u001b[0m\n\u001b[1;32m     48\u001b[0m             \u001b[0mprint\u001b[0m\u001b[0;34m(\u001b[0m\u001b[0;34m'Halfway through.'\u001b[0m\u001b[0;34m)\u001b[0m\u001b[0;34m\u001b[0m\u001b[0m\n\u001b[0;32m---> 49\u001b[0;31m         \u001b[0ma\u001b[0m \u001b[0;34m=\u001b[0m \u001b[0mtriage\u001b[0m\u001b[0;34m(\u001b[0m\u001b[0msim\u001b[0m\u001b[0;34m)\u001b[0m\u001b[0;34m\u001b[0m\u001b[0m\n\u001b[0m\u001b[1;32m     50\u001b[0m         \u001b[0;32mif\u001b[0m \u001b[0ma\u001b[0m \u001b[0;32mis\u001b[0m \u001b[0;32mnot\u001b[0m \u001b[0;32mNone\u001b[0m\u001b[0;34m:\u001b[0m\u001b[0;34m\u001b[0m\u001b[0m\n\u001b[1;32m     51\u001b[0m             \u001b[0mdata\u001b[0m\u001b[0;34m,\u001b[0m \u001b[0msim\u001b[0m \u001b[0;34m=\u001b[0m \u001b[0ma\u001b[0m\u001b[0;34m\u001b[0m\u001b[0m\n",
      "\u001b[0;32m<ipython-input-4-a927d749ec65>\u001b[0m in \u001b[0;36mtriage\u001b[0;34m(sim)\u001b[0m\n\u001b[1;32m     21\u001b[0m \u001b[0;34m\u001b[0m\u001b[0m\n\u001b[1;32m     22\u001b[0m \u001b[0;32mdef\u001b[0m \u001b[0mtriage\u001b[0m\u001b[0;34m(\u001b[0m\u001b[0msim\u001b[0m\u001b[0;34m)\u001b[0m\u001b[0;34m:\u001b[0m\u001b[0;34m\u001b[0m\u001b[0m\n\u001b[0;32m---> 23\u001b[0;31m     \u001b[0my\u001b[0m \u001b[0;34m=\u001b[0m \u001b[0mextract_data\u001b[0m\u001b[0;34m(\u001b[0m\u001b[0msim_location\u001b[0m\u001b[0;34m(\u001b[0m\u001b[0msim\u001b[0m\u001b[0;34m)\u001b[0m\u001b[0;34m,\u001b[0m \u001b[0;36m0\u001b[0m\u001b[0;34m)\u001b[0m\u001b[0;34m\u001b[0m\u001b[0m\n\u001b[0m\u001b[1;32m     24\u001b[0m     \u001b[0mnT\u001b[0m \u001b[0;34m=\u001b[0m \u001b[0mlen\u001b[0m\u001b[0;34m(\u001b[0m\u001b[0my\u001b[0m\u001b[0;34m)\u001b[0m\u001b[0;34m//\u001b[0m\u001b[0mnLat\u001b[0m\u001b[0;34m\u001b[0m\u001b[0m\n\u001b[1;32m     25\u001b[0m     \u001b[0mtmin\u001b[0m \u001b[0;34m=\u001b[0m \u001b[0;36m3000\u001b[0m\u001b[0;34m\u001b[0m\u001b[0m\n",
      "\u001b[0;32m<ipython-input-4-a927d749ec65>\u001b[0m in \u001b[0;36mextract_data\u001b[0;34m(filename, col)\u001b[0m\n\u001b[1;32m      3\u001b[0m     \u001b[0minfile\u001b[0m \u001b[0;34m=\u001b[0m \u001b[0mopen\u001b[0m\u001b[0;34m(\u001b[0m\u001b[0mfilename\u001b[0m\u001b[0;34m,\u001b[0m\u001b[0;34m'r'\u001b[0m\u001b[0;34m)\u001b[0m\u001b[0;34m\u001b[0m\u001b[0m\n\u001b[1;32m      4\u001b[0m     \u001b[0mlines\u001b[0m \u001b[0;34m=\u001b[0m \u001b[0minfile\u001b[0m\u001b[0;34m.\u001b[0m\u001b[0mreadlines\u001b[0m\u001b[0;34m(\u001b[0m\u001b[0;34m)\u001b[0m\u001b[0;34m\u001b[0m\u001b[0m\n\u001b[0;32m----> 5\u001b[0;31m     \u001b[0mfield_values\u001b[0m \u001b[0;34m=\u001b[0m \u001b[0;34m[\u001b[0m\u001b[0mfloat\u001b[0m\u001b[0;34m(\u001b[0m\u001b[0mline\u001b[0m\u001b[0;34m.\u001b[0m\u001b[0msplit\u001b[0m\u001b[0;34m(\u001b[0m\u001b[0;34m)\u001b[0m\u001b[0;34m[\u001b[0m\u001b[0mcol\u001b[0m\u001b[0;34m]\u001b[0m\u001b[0;34m)\u001b[0m \u001b[0;32mfor\u001b[0m \u001b[0mline\u001b[0m \u001b[0;32min\u001b[0m \u001b[0mlines\u001b[0m\u001b[0;34m[\u001b[0m\u001b[0;36m3\u001b[0m\u001b[0;34m:\u001b[0m\u001b[0;34m]\u001b[0m\u001b[0;34m]\u001b[0m\u001b[0;34m\u001b[0m\u001b[0m\n\u001b[0m\u001b[1;32m      6\u001b[0m     \u001b[0minfile\u001b[0m\u001b[0;34m.\u001b[0m\u001b[0mclose\u001b[0m\u001b[0;34m(\u001b[0m\u001b[0;34m)\u001b[0m\u001b[0;34m\u001b[0m\u001b[0m\n\u001b[1;32m      7\u001b[0m     \u001b[0;32mreturn\u001b[0m \u001b[0mfield_values\u001b[0m\u001b[0;34m\u001b[0m\u001b[0m\n",
      "\u001b[0;32m<ipython-input-4-a927d749ec65>\u001b[0m in \u001b[0;36m<listcomp>\u001b[0;34m(.0)\u001b[0m\n\u001b[1;32m      3\u001b[0m     \u001b[0minfile\u001b[0m \u001b[0;34m=\u001b[0m \u001b[0mopen\u001b[0m\u001b[0;34m(\u001b[0m\u001b[0mfilename\u001b[0m\u001b[0;34m,\u001b[0m\u001b[0;34m'r'\u001b[0m\u001b[0;34m)\u001b[0m\u001b[0;34m\u001b[0m\u001b[0m\n\u001b[1;32m      4\u001b[0m     \u001b[0mlines\u001b[0m \u001b[0;34m=\u001b[0m \u001b[0minfile\u001b[0m\u001b[0;34m.\u001b[0m\u001b[0mreadlines\u001b[0m\u001b[0;34m(\u001b[0m\u001b[0;34m)\u001b[0m\u001b[0;34m\u001b[0m\u001b[0m\n\u001b[0;32m----> 5\u001b[0;31m     \u001b[0mfield_values\u001b[0m \u001b[0;34m=\u001b[0m \u001b[0;34m[\u001b[0m\u001b[0mfloat\u001b[0m\u001b[0;34m(\u001b[0m\u001b[0mline\u001b[0m\u001b[0;34m.\u001b[0m\u001b[0msplit\u001b[0m\u001b[0;34m(\u001b[0m\u001b[0;34m)\u001b[0m\u001b[0;34m[\u001b[0m\u001b[0mcol\u001b[0m\u001b[0;34m]\u001b[0m\u001b[0;34m)\u001b[0m \u001b[0;32mfor\u001b[0m \u001b[0mline\u001b[0m \u001b[0;32min\u001b[0m \u001b[0mlines\u001b[0m\u001b[0;34m[\u001b[0m\u001b[0;36m3\u001b[0m\u001b[0;34m:\u001b[0m\u001b[0;34m]\u001b[0m\u001b[0;34m]\u001b[0m\u001b[0;34m\u001b[0m\u001b[0m\n\u001b[0m\u001b[1;32m      6\u001b[0m     \u001b[0minfile\u001b[0m\u001b[0;34m.\u001b[0m\u001b[0mclose\u001b[0m\u001b[0;34m(\u001b[0m\u001b[0;34m)\u001b[0m\u001b[0;34m\u001b[0m\u001b[0m\n\u001b[1;32m      7\u001b[0m     \u001b[0;32mreturn\u001b[0m \u001b[0mfield_values\u001b[0m\u001b[0;34m\u001b[0m\u001b[0m\n",
      "\u001b[0;31mMemoryError\u001b[0m: "
     ]
    }
   ],
   "source": [
    "all_data, sims_to_keep = alldata()\n",
    "#all_data = checkdata()\n",
    "print(np.shape(all_data))"
   ]
  },
  {
   "cell_type": "code",
   "execution_count": null,
   "metadata": {},
   "outputs": [],
   "source": [
    "np.save(bubbles_file(minSim, nSims), [all_data, sims_to_keep])"
   ]
  },
  {
   "cell_type": "code",
   "execution_count": null,
   "metadata": {},
   "outputs": [],
   "source": [
    "def plot_real_space_data(sim, col):\n",
    "    fig, ax0 = plt.subplots(1, 1, figsize = (7, 5))\n",
    "    im0 = ax0.imshow(all_data[sim][col], aspect='auto', interpolation='none', origin='lower')\n",
    "    clb = plt.colorbar(im0, ax = ax0); clb.set_label(r'$\\phi(x)$', labelpad=-48, y=1.08, rotation=0)\n",
    "    ax0.set(xlabel = r'$x$', ylabel = r'$t$')#; ax1.set(xlabel = r'$x$', ylabel = r'$t$')\n",
    "    plt.show()\n",
    "    return\n",
    "\n",
    "def plot_real_space_slice(sim, col, timeslice):\n",
    "    slice = all_data[sim][col][timeslice]\n",
    "    plt.figure(figsize = (50, 3))\n",
    "    plt.plot(np.arange(len(slice)), slice, label=timeslice)\n",
    "    labelLines(plt.gca().get_lines(), xvals=(0, nLat//2), align=False)\n",
    "    plt.xlabel(r'$x$'); plt.ylabel(r'$\\phi(x)$'); plt.legend(); plt.show()\n",
    "    return"
   ]
  },
  {
   "cell_type": "code",
   "execution_count": null,
   "metadata": {},
   "outputs": [],
   "source": [
    "for sim in range(len(all_data))[::]:\n",
    "    plot_real_space_data(sim, 0)"
   ]
  }
 ],
 "metadata": {
  "kernelspec": {
   "display_name": "Python 3.7 (conda) - recommended",
   "language": "python",
   "name": "python37-conda"
  },
  "language_info": {
   "codemirror_mode": {
    "name": "ipython",
    "version": 3
   },
   "file_extension": ".py",
   "mimetype": "text/x-python",
   "name": "python",
   "nbconvert_exporter": "python",
   "pygments_lexer": "ipython3",
   "version": "3.7.0"
  }
 },
 "nbformat": 4,
 "nbformat_minor": 4
}
